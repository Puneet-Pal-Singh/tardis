{
 "cells": [
  {
   "cell_type": "code",
   "execution_count": 1,
   "metadata": {},
   "outputs": [],
   "source": [
    "import pandas as pd\n",
    "import numpy as np"
   ]
  },
  {
   "cell_type": "code",
   "execution_count": 2,
   "metadata": {},
   "outputs": [],
   "source": [
    "class EDataFrame(pd.DataFrame):\n",
    "\n",
    "    _metadata = ['units']\n",
    "\n",
    "    @property \n",
    "    def _constructor(self):\n",
    "        def _c(*args, **kwargs):\n",
    "            return EDataFrame(*args, **kwargs).__finalize__(self)\n",
    "        return _c\n",
    "\n",
    "    def __init__(self, *args, **kwargs):\n",
    "        self.units = pd.Series(kwargs.pop(\"units\", None))\n",
    "        super().__init__(*args, **kwargs)\n"
   ]
  },
  {
   "cell_type": "code",
   "execution_count": 3,
   "metadata": {},
   "outputs": [
    {
     "name": "stderr",
     "output_type": "stream",
     "text": [
      "/home/kervin/anaconda3/lib/python3.7/site-packages/ipykernel_launcher.py:12: DeprecationWarning: The default dtype for empty Series will be 'object' instead of 'float64' in a future version. Specify a dtype explicitly to silence this warning.\n",
      "  if sys.path[0] == '':\n"
     ]
    }
   ],
   "source": [
    "a = EDataFrame({\"first_column\": [1,2,3], \"sec_column\": [4, 5, 6]}, units=[\"cm\", \"mm\"])\n",
    "\n",
    "b = a.copy()"
   ]
  },
  {
   "cell_type": "code",
   "execution_count": 4,
   "metadata": {},
   "outputs": [
    {
     "name": "stdout",
     "output_type": "stream",
     "text": [
      "   first_column  sec_column\n",
      "0             1           4\n",
      "1             2           5\n",
      "2             3           6\n",
      "\n",
      "Units for a:\n",
      "\n",
      "0    cm\n",
      "1    mm\n",
      "dtype: object\n",
      "\n",
      " \n",
      "Units for b:\n",
      "\n",
      "0    cm\n",
      "1    mm\n",
      "dtype: object\n"
     ]
    }
   ],
   "source": [
    "print(a, \"Units for a:\", a.units, \" \",sep=\"\\n\"*2)\n",
    "\n",
    "print(\"Units for b:\", b.units,sep=\"\\n\"*2)"
   ]
  },
  {
   "cell_type": "code",
   "execution_count": null,
   "metadata": {},
   "outputs": [],
   "source": []
  }
 ],
 "metadata": {
  "kernelspec": {
   "display_name": "Python 3",
   "language": "python",
   "name": "python3"
  },
  "language_info": {
   "codemirror_mode": {
    "name": "ipython",
    "version": 3
   },
   "file_extension": ".py",
   "mimetype": "text/x-python",
   "name": "python",
   "nbconvert_exporter": "python",
   "pygments_lexer": "ipython3",
   "version": "3.7.6"
  }
 },
 "nbformat": 4,
 "nbformat_minor": 4
}
